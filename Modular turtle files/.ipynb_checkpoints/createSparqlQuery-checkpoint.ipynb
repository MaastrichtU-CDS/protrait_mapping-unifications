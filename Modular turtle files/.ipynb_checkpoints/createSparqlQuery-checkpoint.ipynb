{
 "cells": [
  {
   "cell_type": "code",
   "execution_count": 70,
   "metadata": {},
   "outputs": [
    {
     "name": "stdout",
     "output_type": "stream",
     "text": [
      "['0_prefixes.ttl', 'ageAtDiagnosis.ttl', 'alcoholUseHistory.ttl', 'birthYear.ttl', 'bodyHeight.ttl', 'bodyWeight.ttl', 'charlsonComorbidityIndex_charlsoncomorbidityindex.ttl', 'comorbidity_comorbidity.ttl', 'educationLevel.ttl', 'neoplasmDiagnosis.ttl', 'patient.ttl', 'planningComparison.ttl', 'previousneoplasm.ttl', 'relationshipStatus.ttl', 'sex.ttl', 'smokingStatus.ttl', 'treatingCentre.ttl']\n"
     ]
    }
   ],
   "source": [
    "import os\n",
    "import string\n",
    "\n",
    "vrm = []\n",
    "\n",
    "for file in os.listdir():\n",
    "    if file.endswith(\".ttl\"):\n",
    "        vrm.append(file)\n",
    "\n",
    "#lijst van alle afzonderlijke turtle files in de folder\n",
    "print(vrm)"
   ]
  },
  {
   "cell_type": "code",
   "execution_count": 73,
   "metadata": {},
   "outputs": [],
   "source": [
    "sparqlQuery = ''\n",
    "\n",
    "with open(\"sparql.rq\", \"w\") as sparql_file:\n",
    "    for i in vrm[1:]:\n",
    "        with open (i, \"r\") as myfile:\n",
    "            data = myfile.read()\n",
    "            sparqlQueryParts = data.split('# select')[-1]\n",
    "    \n",
    "        print('\\n' + 'select' + (sparqlQueryParts.replace('# ', '')), file=sparql_file)\n"
   ]
  },
  {
   "cell_type": "code",
   "execution_count": null,
   "metadata": {},
   "outputs": [],
   "source": []
  }
 ],
 "metadata": {
  "kernelspec": {
   "display_name": "Python 3",
   "language": "python",
   "name": "python3"
  },
  "language_info": {
   "codemirror_mode": {
    "name": "ipython",
    "version": 3
   },
   "file_extension": ".py",
   "mimetype": "text/x-python",
   "name": "python",
   "nbconvert_exporter": "python",
   "pygments_lexer": "ipython3",
   "version": "3.7.3"
  }
 },
 "nbformat": 4,
 "nbformat_minor": 2
}
